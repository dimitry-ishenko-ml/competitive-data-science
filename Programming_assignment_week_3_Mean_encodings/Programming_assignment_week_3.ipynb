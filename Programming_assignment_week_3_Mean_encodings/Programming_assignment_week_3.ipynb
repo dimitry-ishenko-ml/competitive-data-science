{
 "cells": [
  {
   "cell_type": "markdown",
   "metadata": {},
   "source": [
    "Version 1.1.0"
   ]
  },
  {
   "cell_type": "markdown",
   "metadata": {},
   "source": [
    "# Mean encodings"
   ]
  },
  {
   "cell_type": "markdown",
   "metadata": {},
   "source": [
    "In this programming assignment you will be working with `1C` dataset from the final competition. You are asked to encode `item_id` in 4 different ways:\n",
    "\n",
    "    1) Via KFold scheme;  \n",
    "    2) Via Leave-one-out scheme;\n",
    "    3) Via smoothing scheme;\n",
    "    4) Via expanding mean scheme.\n",
    "\n",
    "**You will need to submit** the correlation coefficient between resulting encoding and target variable up to 4 decimal places.\n",
    "\n",
    "### General tips\n",
    "\n",
    "* Fill NANs in the encoding with `0.3343`.\n",
    "* Some encoding schemes depend on sorting order, so in order to avoid confusion, please use the following code snippet to construct the data frame. This snippet also implements mean encoding without regularization."
   ]
  },
  {
   "cell_type": "code",
   "execution_count": 1,
   "metadata": {
    "collapsed": true
   },
   "outputs": [],
   "source": [
    "import pandas as pd\n",
    "import numpy as np\n",
    "from itertools import product\n",
    "from grader import Grader"
   ]
  },
  {
   "cell_type": "markdown",
   "metadata": {},
   "source": [
    "# Read data"
   ]
  },
  {
   "cell_type": "code",
   "execution_count": 2,
   "metadata": {
    "collapsed": true
   },
   "outputs": [
    {
     "output_type": "execute_result",
     "data": {
      "text/plain": "               date  date_block_num  shop_id  item_id  item_price  \\\n0        02.01.2013               0       59    22154      999.00   \n1        03.01.2013               0       25     2552      899.00   \n2        05.01.2013               0       25     2552      899.00   \n3        06.01.2013               0       25     2554     1709.05   \n4        15.01.2013               0       25     2555     1099.00   \n...             ...             ...      ...      ...         ...   \n2935844  10.10.2015              33       25     7409      299.00   \n2935845  09.10.2015              33       25     7460      299.00   \n2935846  14.10.2015              33       25     7459      349.00   \n2935847  22.10.2015              33       25     7440      299.00   \n2935848  03.10.2015              33       25     7460      299.00   \n\n         item_cnt_day  \n0                 1.0  \n1                 1.0  \n2                -1.0  \n3                 1.0  \n4                 1.0  \n...               ...  \n2935844           1.0  \n2935845           1.0  \n2935846           1.0  \n2935847           1.0  \n2935848           1.0  \n\n[2935849 rows x 6 columns]",
      "text/html": "<div>\n<style scoped>\n    .dataframe tbody tr th:only-of-type {\n        vertical-align: middle;\n    }\n\n    .dataframe tbody tr th {\n        vertical-align: top;\n    }\n\n    .dataframe thead th {\n        text-align: right;\n    }\n</style>\n<table border=\"1\" class=\"dataframe\">\n  <thead>\n    <tr style=\"text-align: right;\">\n      <th></th>\n      <th>date</th>\n      <th>date_block_num</th>\n      <th>shop_id</th>\n      <th>item_id</th>\n      <th>item_price</th>\n      <th>item_cnt_day</th>\n    </tr>\n  </thead>\n  <tbody>\n    <tr>\n      <th>0</th>\n      <td>02.01.2013</td>\n      <td>0</td>\n      <td>59</td>\n      <td>22154</td>\n      <td>999.00</td>\n      <td>1.0</td>\n    </tr>\n    <tr>\n      <th>1</th>\n      <td>03.01.2013</td>\n      <td>0</td>\n      <td>25</td>\n      <td>2552</td>\n      <td>899.00</td>\n      <td>1.0</td>\n    </tr>\n    <tr>\n      <th>2</th>\n      <td>05.01.2013</td>\n      <td>0</td>\n      <td>25</td>\n      <td>2552</td>\n      <td>899.00</td>\n      <td>-1.0</td>\n    </tr>\n    <tr>\n      <th>3</th>\n      <td>06.01.2013</td>\n      <td>0</td>\n      <td>25</td>\n      <td>2554</td>\n      <td>1709.05</td>\n      <td>1.0</td>\n    </tr>\n    <tr>\n      <th>4</th>\n      <td>15.01.2013</td>\n      <td>0</td>\n      <td>25</td>\n      <td>2555</td>\n      <td>1099.00</td>\n      <td>1.0</td>\n    </tr>\n    <tr>\n      <th>...</th>\n      <td>...</td>\n      <td>...</td>\n      <td>...</td>\n      <td>...</td>\n      <td>...</td>\n      <td>...</td>\n    </tr>\n    <tr>\n      <th>2935844</th>\n      <td>10.10.2015</td>\n      <td>33</td>\n      <td>25</td>\n      <td>7409</td>\n      <td>299.00</td>\n      <td>1.0</td>\n    </tr>\n    <tr>\n      <th>2935845</th>\n      <td>09.10.2015</td>\n      <td>33</td>\n      <td>25</td>\n      <td>7460</td>\n      <td>299.00</td>\n      <td>1.0</td>\n    </tr>\n    <tr>\n      <th>2935846</th>\n      <td>14.10.2015</td>\n      <td>33</td>\n      <td>25</td>\n      <td>7459</td>\n      <td>349.00</td>\n      <td>1.0</td>\n    </tr>\n    <tr>\n      <th>2935847</th>\n      <td>22.10.2015</td>\n      <td>33</td>\n      <td>25</td>\n      <td>7440</td>\n      <td>299.00</td>\n      <td>1.0</td>\n    </tr>\n    <tr>\n      <th>2935848</th>\n      <td>03.10.2015</td>\n      <td>33</td>\n      <td>25</td>\n      <td>7460</td>\n      <td>299.00</td>\n      <td>1.0</td>\n    </tr>\n  </tbody>\n</table>\n<p>2935849 rows × 6 columns</p>\n</div>"
     },
     "metadata": {},
     "execution_count": 2
    }
   ],
   "source": [
    "sales = pd.read_csv('../readonly/final_project_data/sales_train.csv.gz')\n",
    "sales"
   ]
  },
  {
   "cell_type": "markdown",
   "metadata": {},
   "source": [
    "# Aggregate data"
   ]
  },
  {
   "cell_type": "markdown",
   "metadata": {},
   "source": [
    "Since the competition task is to make a monthly prediction, we need to aggregate the data to montly level before doing any encodings. The following code-cell serves just that purpose."
   ]
  },
  {
   "cell_type": "code",
   "execution_count": 3,
   "metadata": {
    "collapsed": true
   },
   "outputs": [
    {
     "output_type": "execute_result",
     "data": {
      "text/plain": "          shop_id  item_id  date_block_num  target\n139255          0       19               0     0.0\n141495          0       27               0     0.0\n144968          0       28               0     0.0\n142661          0       29               0     0.0\n138947          0       32               0     6.0\n...           ...      ...             ...     ...\n10768834       59    22162              33     0.0\n10769024       59    22163              33     0.0\n10769690       59    22164              33     0.0\n10771216       59    22166              33     0.0\n10770511       59    22167              33     0.0\n\n[10913850 rows x 4 columns]",
      "text/html": "<div>\n<style scoped>\n    .dataframe tbody tr th:only-of-type {\n        vertical-align: middle;\n    }\n\n    .dataframe tbody tr th {\n        vertical-align: top;\n    }\n\n    .dataframe thead th {\n        text-align: right;\n    }\n</style>\n<table border=\"1\" class=\"dataframe\">\n  <thead>\n    <tr style=\"text-align: right;\">\n      <th></th>\n      <th>shop_id</th>\n      <th>item_id</th>\n      <th>date_block_num</th>\n      <th>target</th>\n    </tr>\n  </thead>\n  <tbody>\n    <tr>\n      <th>139255</th>\n      <td>0</td>\n      <td>19</td>\n      <td>0</td>\n      <td>0.0</td>\n    </tr>\n    <tr>\n      <th>141495</th>\n      <td>0</td>\n      <td>27</td>\n      <td>0</td>\n      <td>0.0</td>\n    </tr>\n    <tr>\n      <th>144968</th>\n      <td>0</td>\n      <td>28</td>\n      <td>0</td>\n      <td>0.0</td>\n    </tr>\n    <tr>\n      <th>142661</th>\n      <td>0</td>\n      <td>29</td>\n      <td>0</td>\n      <td>0.0</td>\n    </tr>\n    <tr>\n      <th>138947</th>\n      <td>0</td>\n      <td>32</td>\n      <td>0</td>\n      <td>6.0</td>\n    </tr>\n    <tr>\n      <th>...</th>\n      <td>...</td>\n      <td>...</td>\n      <td>...</td>\n      <td>...</td>\n    </tr>\n    <tr>\n      <th>10768834</th>\n      <td>59</td>\n      <td>22162</td>\n      <td>33</td>\n      <td>0.0</td>\n    </tr>\n    <tr>\n      <th>10769024</th>\n      <td>59</td>\n      <td>22163</td>\n      <td>33</td>\n      <td>0.0</td>\n    </tr>\n    <tr>\n      <th>10769690</th>\n      <td>59</td>\n      <td>22164</td>\n      <td>33</td>\n      <td>0.0</td>\n    </tr>\n    <tr>\n      <th>10771216</th>\n      <td>59</td>\n      <td>22166</td>\n      <td>33</td>\n      <td>0.0</td>\n    </tr>\n    <tr>\n      <th>10770511</th>\n      <td>59</td>\n      <td>22167</td>\n      <td>33</td>\n      <td>0.0</td>\n    </tr>\n  </tbody>\n</table>\n<p>10913850 rows × 4 columns</p>\n</div>"
     },
     "metadata": {},
     "execution_count": 3
    }
   ],
   "source": [
    "index_cols = ['shop_id', 'item_id', 'date_block_num']\n",
    "\n",
    "# For every month we create a grid from all shops/items combinations from that month\n",
    "grid = [] \n",
    "for block_num in sales['date_block_num'].unique():\n",
    "    cur_shops = sales[ sales['date_block_num'] == block_num ]['shop_id'].unique()\n",
    "    cur_items = sales[ sales['date_block_num'] == block_num ]['item_id'].unique()\n",
    "    grid.append(np.array(list(product(*[ cur_shops, cur_items, [block_num] ])), dtype='int32'))\n",
    "\n",
    "#turn the grid into pandas dataframe\n",
    "grid = pd.DataFrame(np.vstack(grid), columns=index_cols, dtype=np.int32)\n",
    "\n",
    "#get aggregated values for (shop_id, item_id, month)\n",
    "gb = sales.groupby(index_cols, as_index=False).agg(target=('item_cnt_day', 'sum'))\n",
    "\n",
    "#fix column names\n",
    "#gb.columns = [ col[0] if col[-1] == '' else col[-1] for col in gb.columns.values ]\n",
    "#join aggregated data to the grid\n",
    "all_data = pd.merge(grid, gb, how='left', on=index_cols).fillna(0)\n",
    "#sort the data\n",
    "all_data.sort_values(['date_block_num', 'shop_id', 'item_id'], inplace=True)\n",
    "all_data"
   ]
  },
  {
   "cell_type": "markdown",
   "metadata": {},
   "source": [
    "# Mean encodings without regularization"
   ]
  },
  {
   "cell_type": "markdown",
   "metadata": {},
   "source": [
    "After we did the techinical work, we are ready to actually *mean encode* the desired `item_id` variable. \n",
    "\n",
    "Here are two ways to implement mean encoding features *without* any regularization. You can use this code as a starting point to implement regularized techniques. "
   ]
  },
  {
   "cell_type": "markdown",
   "metadata": {},
   "source": [
    "#### Method 1"
   ]
  },
  {
   "cell_type": "code",
   "execution_count": 4,
   "metadata": {
    "collapsed": true,
    "scrolled": true,
    "tags": []
   },
   "outputs": [
    {
     "output_type": "stream",
     "name": "stdout",
     "text": "0.4830386988621699\n"
    }
   ],
   "source": [
    "# Calculate a mapping: {item_id: target_mean}\n",
    "item_id_target_mean = all_data.groupby('item_id').target.mean()\n",
    "\n",
    "# In our non-regularized case we just *map* the computed means to the `item_id`'s\n",
    "all_data['item_target_enc'] = all_data['item_id'].map(item_id_target_mean)\n",
    "\n",
    "# Fill NaNs\n",
    "all_data['item_target_enc'].fillna(0.3343, inplace=True) \n",
    "\n",
    "# Print correlation\n",
    "encoded_feature = all_data['item_target_enc'].values\n",
    "print(np.corrcoef(all_data['target'].values, encoded_feature)[0][1])"
   ]
  },
  {
   "cell_type": "markdown",
   "metadata": {},
   "source": [
    "#### Method 2"
   ]
  },
  {
   "cell_type": "code",
   "execution_count": 5,
   "metadata": {
    "collapsed": true,
    "tags": []
   },
   "outputs": [
    {
     "output_type": "stream",
     "name": "stdout",
     "text": "0.4830386988621699\n"
    }
   ],
   "source": [
    "'''\n",
    "     Differently to `.target.mean()` function `transform` \n",
    "   will return a dataframe with an index like in `all_data`.\n",
    "   Basically this single line of code is equivalent to the first two lines from of Method 1.\n",
    "'''\n",
    "all_data['item_target_enc'] = all_data.groupby('item_id')['target'].transform('mean')\n",
    "\n",
    "# Fill NaNs\n",
    "all_data['item_target_enc'].fillna(0.3343, inplace=True) \n",
    "\n",
    "# Print correlation\n",
    "encoded_feature = all_data['item_target_enc'].values\n",
    "print(np.corrcoef(all_data['target'].values, encoded_feature)[0][1])"
   ]
  },
  {
   "cell_type": "markdown",
   "metadata": {},
   "source": [
    "See the printed value? It is the correlation coefficient between the target variable and your new encoded feature. You need to **compute correlation coefficient** between the encodings, that you will implement and **submit those to coursera**."
   ]
  },
  {
   "cell_type": "code",
   "execution_count": 6,
   "metadata": {
    "collapsed": true
   },
   "outputs": [],
   "source": [
    "grader = Grader()"
   ]
  },
  {
   "cell_type": "markdown",
   "metadata": {},
   "source": [
    "# 1. KFold scheme"
   ]
  },
  {
   "cell_type": "markdown",
   "metadata": {},
   "source": [
    "Explained starting at 41 sec of [Regularization video](https://www.coursera.org/learn/competitive-data-science/lecture/LGYQ2/regularization)."
   ]
  },
  {
   "cell_type": "markdown",
   "metadata": {},
   "source": [
    "**Now it's your turn to write the code!** \n",
    "\n",
    "You may use 'Regularization' video as a reference for all further tasks.\n",
    "\n",
    "First, implement KFold scheme with five folds. Use KFold(5) from sklearn.model_selection. \n",
    "\n",
    "1. Split your data in 5 folds with `sklearn.model_selection.KFold` with `shuffle=False` argument.\n",
    "2. Iterate through folds: use all but the current fold to calculate mean target for each level `item_id`, and  fill the current fold.\n",
    "\n",
    "    *  See the **Method 1** from the example implementation. In particular learn what `map` and pd.Series.map functions do. They are pretty handy in many situations."
   ]
  },
  {
   "cell_type": "code",
   "execution_count": 7,
   "metadata": {},
   "outputs": [
    {
     "output_type": "execute_result",
     "data": {
      "text/plain": "          shop_id  item_id  date_block_num  target  item_target_enc\n139255          0       19               0     0.0         0.022222\n141495          0       27               0     0.0         0.056834\n144968          0       28               0     0.0         0.141176\n142661          0       29               0     0.0         0.037383\n138947          0       32               0     6.0         1.319042\n...           ...      ...             ...     ...              ...\n10768834       59    22162              33     0.0         1.556793\n10769024       59    22163              33     0.0         0.581395\n10769690       59    22164              33     0.0         1.235589\n10771216       59    22166              33     0.0         0.295918\n10770511       59    22167              33     0.0         1.081081\n\n[10913850 rows x 5 columns]",
      "text/html": "<div>\n<style scoped>\n    .dataframe tbody tr th:only-of-type {\n        vertical-align: middle;\n    }\n\n    .dataframe tbody tr th {\n        vertical-align: top;\n    }\n\n    .dataframe thead th {\n        text-align: right;\n    }\n</style>\n<table border=\"1\" class=\"dataframe\">\n  <thead>\n    <tr style=\"text-align: right;\">\n      <th></th>\n      <th>shop_id</th>\n      <th>item_id</th>\n      <th>date_block_num</th>\n      <th>target</th>\n      <th>item_target_enc</th>\n    </tr>\n  </thead>\n  <tbody>\n    <tr>\n      <th>139255</th>\n      <td>0</td>\n      <td>19</td>\n      <td>0</td>\n      <td>0.0</td>\n      <td>0.022222</td>\n    </tr>\n    <tr>\n      <th>141495</th>\n      <td>0</td>\n      <td>27</td>\n      <td>0</td>\n      <td>0.0</td>\n      <td>0.056834</td>\n    </tr>\n    <tr>\n      <th>144968</th>\n      <td>0</td>\n      <td>28</td>\n      <td>0</td>\n      <td>0.0</td>\n      <td>0.141176</td>\n    </tr>\n    <tr>\n      <th>142661</th>\n      <td>0</td>\n      <td>29</td>\n      <td>0</td>\n      <td>0.0</td>\n      <td>0.037383</td>\n    </tr>\n    <tr>\n      <th>138947</th>\n      <td>0</td>\n      <td>32</td>\n      <td>0</td>\n      <td>6.0</td>\n      <td>1.319042</td>\n    </tr>\n    <tr>\n      <th>...</th>\n      <td>...</td>\n      <td>...</td>\n      <td>...</td>\n      <td>...</td>\n      <td>...</td>\n    </tr>\n    <tr>\n      <th>10768834</th>\n      <td>59</td>\n      <td>22162</td>\n      <td>33</td>\n      <td>0.0</td>\n      <td>1.556793</td>\n    </tr>\n    <tr>\n      <th>10769024</th>\n      <td>59</td>\n      <td>22163</td>\n      <td>33</td>\n      <td>0.0</td>\n      <td>0.581395</td>\n    </tr>\n    <tr>\n      <th>10769690</th>\n      <td>59</td>\n      <td>22164</td>\n      <td>33</td>\n      <td>0.0</td>\n      <td>1.235589</td>\n    </tr>\n    <tr>\n      <th>10771216</th>\n      <td>59</td>\n      <td>22166</td>\n      <td>33</td>\n      <td>0.0</td>\n      <td>0.295918</td>\n    </tr>\n    <tr>\n      <th>10770511</th>\n      <td>59</td>\n      <td>22167</td>\n      <td>33</td>\n      <td>0.0</td>\n      <td>1.081081</td>\n    </tr>\n  </tbody>\n</table>\n<p>10913850 rows × 5 columns</p>\n</div>"
     },
     "metadata": {},
     "execution_count": 7
    }
   ],
   "source": [
    "all_data"
   ]
  },
  {
   "cell_type": "code",
   "execution_count": 8,
   "metadata": {
    "collapsed": true,
    "tags": []
   },
   "outputs": [
    {
     "output_type": "execute_result",
     "data": {
      "text/plain": "          shop_id  item_id  date_block_num  target  item_target_enc\n139255          0       19               0     0.0         0.334300\n141495          0       27               0     0.0         0.048421\n144968          0       28               0     0.0         0.148485\n142661          0       29               0     0.0         0.030303\n138947          0       32               0     6.0         0.897048\n...           ...      ...             ...     ...              ...\n10768834       59    22162              33     0.0         0.020000\n10769024       59    22163              33     0.0         0.334300\n10769690       59    22164              33     0.0         0.334300\n10771216       59    22166              33     0.0         0.349227\n10770511       59    22167              33     0.0         1.229927\n\n[10913850 rows x 5 columns]",
      "text/html": "<div>\n<style scoped>\n    .dataframe tbody tr th:only-of-type {\n        vertical-align: middle;\n    }\n\n    .dataframe tbody tr th {\n        vertical-align: top;\n    }\n\n    .dataframe thead th {\n        text-align: right;\n    }\n</style>\n<table border=\"1\" class=\"dataframe\">\n  <thead>\n    <tr style=\"text-align: right;\">\n      <th></th>\n      <th>shop_id</th>\n      <th>item_id</th>\n      <th>date_block_num</th>\n      <th>target</th>\n      <th>item_target_enc</th>\n    </tr>\n  </thead>\n  <tbody>\n    <tr>\n      <th>139255</th>\n      <td>0</td>\n      <td>19</td>\n      <td>0</td>\n      <td>0.0</td>\n      <td>0.334300</td>\n    </tr>\n    <tr>\n      <th>141495</th>\n      <td>0</td>\n      <td>27</td>\n      <td>0</td>\n      <td>0.0</td>\n      <td>0.048421</td>\n    </tr>\n    <tr>\n      <th>144968</th>\n      <td>0</td>\n      <td>28</td>\n      <td>0</td>\n      <td>0.0</td>\n      <td>0.148485</td>\n    </tr>\n    <tr>\n      <th>142661</th>\n      <td>0</td>\n      <td>29</td>\n      <td>0</td>\n      <td>0.0</td>\n      <td>0.030303</td>\n    </tr>\n    <tr>\n      <th>138947</th>\n      <td>0</td>\n      <td>32</td>\n      <td>0</td>\n      <td>6.0</td>\n      <td>0.897048</td>\n    </tr>\n    <tr>\n      <th>...</th>\n      <td>...</td>\n      <td>...</td>\n      <td>...</td>\n      <td>...</td>\n      <td>...</td>\n    </tr>\n    <tr>\n      <th>10768834</th>\n      <td>59</td>\n      <td>22162</td>\n      <td>33</td>\n      <td>0.0</td>\n      <td>0.020000</td>\n    </tr>\n    <tr>\n      <th>10769024</th>\n      <td>59</td>\n      <td>22163</td>\n      <td>33</td>\n      <td>0.0</td>\n      <td>0.334300</td>\n    </tr>\n    <tr>\n      <th>10769690</th>\n      <td>59</td>\n      <td>22164</td>\n      <td>33</td>\n      <td>0.0</td>\n      <td>0.334300</td>\n    </tr>\n    <tr>\n      <th>10771216</th>\n      <td>59</td>\n      <td>22166</td>\n      <td>33</td>\n      <td>0.0</td>\n      <td>0.349227</td>\n    </tr>\n    <tr>\n      <th>10770511</th>\n      <td>59</td>\n      <td>22167</td>\n      <td>33</td>\n      <td>0.0</td>\n      <td>1.229927</td>\n    </tr>\n  </tbody>\n</table>\n<p>10913850 rows × 5 columns</p>\n</div>"
     },
     "metadata": {},
     "execution_count": 8
    }
   ],
   "source": [
    "# YOUR CODE GOES HERE\n",
    "from sklearn.model_selection import KFold\n",
    "\n",
    "kf = KFold(n_splits=5, shuffle=False)\n",
    "all_data[\"item_target_enc\"] = np.nan\n",
    "\n",
    "for train_idx, valid_idx in kf.split(all_data.index.values):\n",
    "    item_id_target_mean = all_data.loc[train_idx].groupby(\"item_id\")[\"target\"].mean()\n",
    "    all_data.loc[valid_idx, \"item_target_enc\"] = all_data.loc[valid_idx, \"item_id\"].map(item_id_target_mean)\n",
    "\n",
    "all_data[\"item_target_enc\"].fillna(0.3343, inplace=True)\n",
    "all_data"
   ]
  },
  {
   "cell_type": "code",
   "execution_count": 9,
   "metadata": {
    "tags": []
   },
   "outputs": [
    {
     "output_type": "stream",
     "name": "stdout",
     "text": "0.4166330182247348\nCurrent answer for task KFold_scheme is: 0.4166330182247348\n"
    }
   ],
   "source": [
    "# You will need to compute correlation like that\n",
    "encoded_feature = all_data[\"item_target_enc\"].values\n",
    "corr = np.corrcoef(all_data[\"target\"].values, encoded_feature)[0][1]\n",
    "print(corr)\n",
    "grader.submit_tag(\"KFold_scheme\", corr)"
   ]
  },
  {
   "cell_type": "markdown",
   "metadata": {},
   "source": [
    "# 2. Leave-one-out scheme"
   ]
  },
  {
   "cell_type": "markdown",
   "metadata": {
    "collapsed": true
   },
   "source": [
    "Now, implement leave-one-out scheme. Note that if you just simply set the number of folds to the number of samples and run the code from the **KFold scheme**, you will probably wait for a very long time. \n",
    "\n",
    "To implement a faster version, note, that to calculate mean target value using all the objects but one *given object*, you can:\n",
    "\n",
    "1. Calculate sum of the target values using all the objects.\n",
    "2. Then subtract the target of the *given object* and divide the resulting value by `n_objects - 1`. \n",
    "\n",
    "Note that you do not need to perform `1.` for every object. And `2.` can be implemented without any `for` loop.\n",
    "\n",
    "It is the most convenient to use `.transform` function as in **Method 2**."
   ]
  },
  {
   "cell_type": "code",
   "execution_count": 10,
   "metadata": {},
   "outputs": [
    {
     "output_type": "execute_result",
     "data": {
      "text/plain": "          shop_id  item_id  date_block_num  target  item_target_enc\n139255          0       19               0     0.0         0.022727\n141495          0       27               0     0.0         0.056911\n144968          0       28               0     0.0         0.141414\n142661          0       29               0     0.0         0.037500\n138947          0       32               0     6.0         1.316088\n...           ...      ...             ...     ...              ...\n10768834       59    22162              33     0.0         1.560268\n10769024       59    22163              33     0.0         0.585938\n10769690       59    22164              33     0.0         1.238693\n10771216       59    22166              33     0.0         0.296170\n10770511       59    22167              33     0.0         1.081967\n\n[10913850 rows x 5 columns]",
      "text/html": "<div>\n<style scoped>\n    .dataframe tbody tr th:only-of-type {\n        vertical-align: middle;\n    }\n\n    .dataframe tbody tr th {\n        vertical-align: top;\n    }\n\n    .dataframe thead th {\n        text-align: right;\n    }\n</style>\n<table border=\"1\" class=\"dataframe\">\n  <thead>\n    <tr style=\"text-align: right;\">\n      <th></th>\n      <th>shop_id</th>\n      <th>item_id</th>\n      <th>date_block_num</th>\n      <th>target</th>\n      <th>item_target_enc</th>\n    </tr>\n  </thead>\n  <tbody>\n    <tr>\n      <th>139255</th>\n      <td>0</td>\n      <td>19</td>\n      <td>0</td>\n      <td>0.0</td>\n      <td>0.022727</td>\n    </tr>\n    <tr>\n      <th>141495</th>\n      <td>0</td>\n      <td>27</td>\n      <td>0</td>\n      <td>0.0</td>\n      <td>0.056911</td>\n    </tr>\n    <tr>\n      <th>144968</th>\n      <td>0</td>\n      <td>28</td>\n      <td>0</td>\n      <td>0.0</td>\n      <td>0.141414</td>\n    </tr>\n    <tr>\n      <th>142661</th>\n      <td>0</td>\n      <td>29</td>\n      <td>0</td>\n      <td>0.0</td>\n      <td>0.037500</td>\n    </tr>\n    <tr>\n      <th>138947</th>\n      <td>0</td>\n      <td>32</td>\n      <td>0</td>\n      <td>6.0</td>\n      <td>1.316088</td>\n    </tr>\n    <tr>\n      <th>...</th>\n      <td>...</td>\n      <td>...</td>\n      <td>...</td>\n      <td>...</td>\n      <td>...</td>\n    </tr>\n    <tr>\n      <th>10768834</th>\n      <td>59</td>\n      <td>22162</td>\n      <td>33</td>\n      <td>0.0</td>\n      <td>1.560268</td>\n    </tr>\n    <tr>\n      <th>10769024</th>\n      <td>59</td>\n      <td>22163</td>\n      <td>33</td>\n      <td>0.0</td>\n      <td>0.585938</td>\n    </tr>\n    <tr>\n      <th>10769690</th>\n      <td>59</td>\n      <td>22164</td>\n      <td>33</td>\n      <td>0.0</td>\n      <td>1.238693</td>\n    </tr>\n    <tr>\n      <th>10771216</th>\n      <td>59</td>\n      <td>22166</td>\n      <td>33</td>\n      <td>0.0</td>\n      <td>0.296170</td>\n    </tr>\n    <tr>\n      <th>10770511</th>\n      <td>59</td>\n      <td>22167</td>\n      <td>33</td>\n      <td>0.0</td>\n      <td>1.081967</td>\n    </tr>\n  </tbody>\n</table>\n<p>10913850 rows × 5 columns</p>\n</div>"
     },
     "metadata": {},
     "execution_count": 10
    }
   ],
   "source": [
    "# YOUR CODE GOES HERE\n",
    "all_data[\"item_target_enc\"] = np.nan\n",
    "\n",
    "item_id_sums = all_data.groupby(\"item_id\")[\"target\"].transform(\"sum\")\n",
    "item_id_counts = all_data.groupby(\"item_id\")[\"target\"].transform(\"count\")\n",
    "\n",
    "all_data[\"item_target_enc\"] = (item_id_sums - all_data[\"target\"]) / (item_id_counts - 1)\n",
    "all_data"
   ]
  },
  {
   "cell_type": "code",
   "execution_count": 11,
   "metadata": {
    "collapsed": true,
    "tags": []
   },
   "outputs": [
    {
     "output_type": "stream",
     "name": "stdout",
     "text": "0.4803848311293002\nCurrent answer for task Leave-one-out_scheme is: 0.4803848311293002\n"
    }
   ],
   "source": [
    "encoded_feature = all_data[\"item_target_enc\"].values\n",
    "corr = np.corrcoef(all_data[\"target\"].values, encoded_feature)[0][1]\n",
    "print(corr)\n",
    "grader.submit_tag(\"Leave-one-out_scheme\", corr)"
   ]
  },
  {
   "cell_type": "markdown",
   "metadata": {},
   "source": [
    "# 3. Smoothing"
   ]
  },
  {
   "cell_type": "markdown",
   "metadata": {},
   "source": [
    "Explained starting at 4:03 of [Regularization video](https://www.coursera.org/learn/competitive-data-science/lecture/LGYQ2/regularization)."
   ]
  },
  {
   "cell_type": "markdown",
   "metadata": {},
   "source": [
    "Next, implement smoothing scheme with $\\alpha = 100$. Use the formula from the first slide in the video and $0.3343$ as `globalmean`. Note that `nrows` is the number of objects that belong to a certain category (not the number of rows in the dataset)."
   ]
  },
  {
   "cell_type": "code",
   "execution_count": 12,
   "metadata": {},
   "outputs": [
    {
     "output_type": "execute_result",
     "data": {
      "text/plain": "          shop_id  item_id  date_block_num  target  item_target_enc\n139255          0       19               0     0.0         0.237448\n141495          0       27               0     0.0         0.089905\n144968          0       28               0     0.0         0.168964\n142661          0       29               0     0.0         0.107910\n138947          0       32               0     6.0         1.260635\n...           ...      ...             ...     ...              ...\n10768834       59    22162              33     0.0         1.334117\n10769024       59    22163              33     0.0         0.473493\n10769690       59    22164              33     0.0         1.054970\n10771216       59    22166              33     0.0         0.298926\n10770511       59    22167              33     0.0         1.024550\n\n[10913850 rows x 5 columns]",
      "text/html": "<div>\n<style scoped>\n    .dataframe tbody tr th:only-of-type {\n        vertical-align: middle;\n    }\n\n    .dataframe tbody tr th {\n        vertical-align: top;\n    }\n\n    .dataframe thead th {\n        text-align: right;\n    }\n</style>\n<table border=\"1\" class=\"dataframe\">\n  <thead>\n    <tr style=\"text-align: right;\">\n      <th></th>\n      <th>shop_id</th>\n      <th>item_id</th>\n      <th>date_block_num</th>\n      <th>target</th>\n      <th>item_target_enc</th>\n    </tr>\n  </thead>\n  <tbody>\n    <tr>\n      <th>139255</th>\n      <td>0</td>\n      <td>19</td>\n      <td>0</td>\n      <td>0.0</td>\n      <td>0.237448</td>\n    </tr>\n    <tr>\n      <th>141495</th>\n      <td>0</td>\n      <td>27</td>\n      <td>0</td>\n      <td>0.0</td>\n      <td>0.089905</td>\n    </tr>\n    <tr>\n      <th>144968</th>\n      <td>0</td>\n      <td>28</td>\n      <td>0</td>\n      <td>0.0</td>\n      <td>0.168964</td>\n    </tr>\n    <tr>\n      <th>142661</th>\n      <td>0</td>\n      <td>29</td>\n      <td>0</td>\n      <td>0.0</td>\n      <td>0.107910</td>\n    </tr>\n    <tr>\n      <th>138947</th>\n      <td>0</td>\n      <td>32</td>\n      <td>0</td>\n      <td>6.0</td>\n      <td>1.260635</td>\n    </tr>\n    <tr>\n      <th>...</th>\n      <td>...</td>\n      <td>...</td>\n      <td>...</td>\n      <td>...</td>\n      <td>...</td>\n    </tr>\n    <tr>\n      <th>10768834</th>\n      <td>59</td>\n      <td>22162</td>\n      <td>33</td>\n      <td>0.0</td>\n      <td>1.334117</td>\n    </tr>\n    <tr>\n      <th>10769024</th>\n      <td>59</td>\n      <td>22163</td>\n      <td>33</td>\n      <td>0.0</td>\n      <td>0.473493</td>\n    </tr>\n    <tr>\n      <th>10769690</th>\n      <td>59</td>\n      <td>22164</td>\n      <td>33</td>\n      <td>0.0</td>\n      <td>1.054970</td>\n    </tr>\n    <tr>\n      <th>10771216</th>\n      <td>59</td>\n      <td>22166</td>\n      <td>33</td>\n      <td>0.0</td>\n      <td>0.298926</td>\n    </tr>\n    <tr>\n      <th>10770511</th>\n      <td>59</td>\n      <td>22167</td>\n      <td>33</td>\n      <td>0.0</td>\n      <td>1.024550</td>\n    </tr>\n  </tbody>\n</table>\n<p>10913850 rows × 5 columns</p>\n</div>"
     },
     "metadata": {},
     "execution_count": 12
    }
   ],
   "source": [
    "# YOUR CODE GOES HERE\n",
    "all_data[\"item_target_enc\"] = np.nan\n",
    "\n",
    "alpha = 100\n",
    "globalmean = 0.3343\n",
    "\n",
    "item_id_means = all_data.groupby(\"item_id\")[\"target\"].transform(\"mean\")\n",
    "item_id_counts = all_data.groupby(\"item_id\")[\"target\"].transform(\"count\")\n",
    "\n",
    "all_data[\"item_target_enc\"] = (item_id_means * item_id_counts + globalmean * alpha) / (item_id_counts + alpha)\n",
    "all_data"
   ]
  },
  {
   "cell_type": "code",
   "execution_count": 13,
   "metadata": {
    "collapsed": true,
    "tags": []
   },
   "outputs": [
    {
     "output_type": "stream",
     "name": "stdout",
     "text": "0.4818198797097264\nCurrent answer for task Smoothing_scheme is: 0.4818198797097264\n"
    }
   ],
   "source": [
    "encoded_feature = all_data[\"item_target_enc\"].values\n",
    "corr = np.corrcoef(all_data[\"target\"].values, encoded_feature)[0][1]\n",
    "print(corr)\n",
    "grader.submit_tag(\"Smoothing_scheme\", corr)"
   ]
  },
  {
   "cell_type": "markdown",
   "metadata": {},
   "source": [
    "# 4. Expanding mean scheme"
   ]
  },
  {
   "cell_type": "markdown",
   "metadata": {},
   "source": [
    "Explained starting at 5:50 of [Regularization video](https://www.coursera.org/learn/competitive-data-science/lecture/LGYQ2/regularization)."
   ]
  },
  {
   "cell_type": "markdown",
   "metadata": {
    "collapsed": true
   },
   "source": [
    "Finally, implement the *expanding mean* scheme. It is basically already implemented for you in the video, but you can challenge yourself and try to implement it yourself. You will need [`cumsum`](https://pandas.pydata.org/pandas-docs/stable/generated/pandas.core.groupby.DataFrameGroupBy.cumsum.html) and [`cumcount`](https://pandas.pydata.org/pandas-docs/stable/generated/pandas.core.groupby.GroupBy.cumcount.html) functions from pandas."
   ]
  },
  {
   "cell_type": "code",
   "execution_count": 14,
   "metadata": {},
   "outputs": [
    {
     "output_type": "execute_result",
     "data": {
      "text/plain": "          shop_id  item_id  date_block_num  target  item_target_enc\n139255          0       19               0     0.0         0.334300\n141495          0       27               0     0.0         0.334300\n144968          0       28               0     0.0         0.334300\n142661          0       29               0     0.0         0.334300\n138947          0       32               0     6.0         0.334300\n...           ...      ...             ...     ...              ...\n10768834       59    22162              33     0.0         1.560268\n10769024       59    22163              33     0.0         0.585938\n10769690       59    22164              33     0.0         1.238693\n10771216       59    22166              33     0.0         0.296170\n10770511       59    22167              33     0.0         1.081967\n\n[10913850 rows x 5 columns]",
      "text/html": "<div>\n<style scoped>\n    .dataframe tbody tr th:only-of-type {\n        vertical-align: middle;\n    }\n\n    .dataframe tbody tr th {\n        vertical-align: top;\n    }\n\n    .dataframe thead th {\n        text-align: right;\n    }\n</style>\n<table border=\"1\" class=\"dataframe\">\n  <thead>\n    <tr style=\"text-align: right;\">\n      <th></th>\n      <th>shop_id</th>\n      <th>item_id</th>\n      <th>date_block_num</th>\n      <th>target</th>\n      <th>item_target_enc</th>\n    </tr>\n  </thead>\n  <tbody>\n    <tr>\n      <th>139255</th>\n      <td>0</td>\n      <td>19</td>\n      <td>0</td>\n      <td>0.0</td>\n      <td>0.334300</td>\n    </tr>\n    <tr>\n      <th>141495</th>\n      <td>0</td>\n      <td>27</td>\n      <td>0</td>\n      <td>0.0</td>\n      <td>0.334300</td>\n    </tr>\n    <tr>\n      <th>144968</th>\n      <td>0</td>\n      <td>28</td>\n      <td>0</td>\n      <td>0.0</td>\n      <td>0.334300</td>\n    </tr>\n    <tr>\n      <th>142661</th>\n      <td>0</td>\n      <td>29</td>\n      <td>0</td>\n      <td>0.0</td>\n      <td>0.334300</td>\n    </tr>\n    <tr>\n      <th>138947</th>\n      <td>0</td>\n      <td>32</td>\n      <td>0</td>\n      <td>6.0</td>\n      <td>0.334300</td>\n    </tr>\n    <tr>\n      <th>...</th>\n      <td>...</td>\n      <td>...</td>\n      <td>...</td>\n      <td>...</td>\n      <td>...</td>\n    </tr>\n    <tr>\n      <th>10768834</th>\n      <td>59</td>\n      <td>22162</td>\n      <td>33</td>\n      <td>0.0</td>\n      <td>1.560268</td>\n    </tr>\n    <tr>\n      <th>10769024</th>\n      <td>59</td>\n      <td>22163</td>\n      <td>33</td>\n      <td>0.0</td>\n      <td>0.585938</td>\n    </tr>\n    <tr>\n      <th>10769690</th>\n      <td>59</td>\n      <td>22164</td>\n      <td>33</td>\n      <td>0.0</td>\n      <td>1.238693</td>\n    </tr>\n    <tr>\n      <th>10771216</th>\n      <td>59</td>\n      <td>22166</td>\n      <td>33</td>\n      <td>0.0</td>\n      <td>0.296170</td>\n    </tr>\n    <tr>\n      <th>10770511</th>\n      <td>59</td>\n      <td>22167</td>\n      <td>33</td>\n      <td>0.0</td>\n      <td>1.081967</td>\n    </tr>\n  </tbody>\n</table>\n<p>10913850 rows × 5 columns</p>\n</div>"
     },
     "metadata": {},
     "execution_count": 14
    }
   ],
   "source": [
    "# YOUR CODE GOES HERE\n",
    "all_data[\"item_target_enc\"] = np.nan\n",
    "\n",
    "cum_sum = all_data.groupby(\"item_id\")[\"target\"].cumsum() - all_data[\"target\"]\n",
    "cum_count = all_data.groupby(\"item_id\").cumcount()\n",
    "\n",
    "all_data[\"item_target_enc\"] = cum_sum / cum_count\n",
    "\n",
    "all_data[\"item_target_enc\"].fillna(0.3343, inplace=True)\n",
    "all_data"
   ]
  },
  {
   "cell_type": "code",
   "execution_count": 15,
   "metadata": {
    "collapsed": true,
    "tags": []
   },
   "outputs": [
    {
     "output_type": "stream",
     "name": "stdout",
     "text": "0.5025245211081697\nCurrent answer for task Expanding_mean_scheme is: 0.5025245211081697\n"
    }
   ],
   "source": [
    "encoded_feature = all_data[\"item_target_enc\"].values\n",
    "corr = np.corrcoef(all_data['target'].values, encoded_feature)[0][1]\n",
    "print(corr)\n",
    "grader.submit_tag('Expanding_mean_scheme', corr)"
   ]
  },
  {
   "cell_type": "markdown",
   "metadata": {},
   "source": [
    "## Authorization & Submission\n",
    "To submit assignment parts to Cousera platform, please, enter your e-mail and token into variables below. You can generate token on this programming assignment page. Note: Token expires 30 minutes after generation."
   ]
  },
  {
   "cell_type": "code",
   "execution_count": 16,
   "metadata": {
    "collapsed": true,
    "tags": []
   },
   "outputs": [
    {
     "output_type": "stream",
     "name": "stdout",
     "text": "You want to submit these numbers:\nTask KFold_scheme: 0.4166330182247348\nTask Leave-one-out_scheme: 0.4803848311293002\nTask Smoothing_scheme: 0.4818198797097264\nTask Expanding_mean_scheme: 0.5025245211081697\n"
    }
   ],
   "source": [
    "STUDENT_EMAIL = \"\"\n",
    "STUDENT_TOKEN = \"\"\n",
    "grader.status()"
   ]
  },
  {
   "cell_type": "code",
   "execution_count": null,
   "metadata": {
    "collapsed": true,
    "tags": []
   },
   "outputs": [],
   "source": [
    "grader.submit(STUDENT_EMAIL, STUDENT_TOKEN)"
   ]
  },
  {
   "cell_type": "code",
   "execution_count": null,
   "metadata": {},
   "outputs": [],
   "source": []
  }
 ],
 "metadata": {
  "kernelspec": {
   "display_name": "Python 3",
   "language": "python",
   "name": "python3"
  },
  "language_info": {
   "codemirror_mode": {
    "name": "ipython",
    "version": 3
   },
   "file_extension": ".py",
   "mimetype": "text/x-python",
   "name": "python",
   "nbconvert_exporter": "python",
   "pygments_lexer": "ipython3",
   "version": "3.8.2-final"
  }
 },
 "nbformat": 4,
 "nbformat_minor": 2
}